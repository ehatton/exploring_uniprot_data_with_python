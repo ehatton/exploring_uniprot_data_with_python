{
 "cells": [
  {
   "cell_type": "markdown",
   "metadata": {},
   "source": [
    "# Exploring UniProt data with Python\n",
    "\n",
    "\n",
    "Emma Hatton-Ellis, 28th February 2019.\n",
    "\n",
    "Bioinformatics Resources for Protein Biology, API session."
   ]
  },
  {
   "cell_type": "markdown",
   "metadata": {},
   "source": [
    "### Sources of UniProt data\n",
    "1. UniProt REST API\n",
    "     - Provides access to core UniProt data, including search and database mapping services.\n",
    "     - Link and documentation: https://www.uniprot.org/help/programmatic_access\n",
    "2. EBI Proteins API\n",
    "    - In addition to core UniProt data, the Proteins API also allows programmatic access to linked datasets such as reference genome mappings, variant mapping and proteomics peptide mappings.\n",
    "    - Link and documentation: https://www.ebi.ac.uk/proteins/api/doc/index.html\n",
    "3. FTP download site\n",
    "    - The FTP site contains complete datasets for bulk download. If you know that you need to work with very large amounts of data then this may be the best option.\n",
    "    - Link and documentation: https://www.uniprot.org/downloads"
   ]
  },
  {
   "cell_type": "markdown",
   "metadata": {},
   "source": [
    "Since this is only a brief introduction, the examples in the rest of this notebook will focus on the Proteins API.\n",
    "\n",
    "If you would like to learn more about programmatic access to UniProt data, then you may be interested in this webinar:\n",
    "\n",
    "https://www.ebi.ac.uk/training/online/course/accessing-embl-ebi-resources-and-tools-programmatically/uniprot\n",
    "\n",
    "Next, on to some practical examples..."
   ]
  },
  {
   "cell_type": "markdown",
   "metadata": {},
   "source": [
    "### Overview of the Proteins API\n",
    "The proteins API provides five different services, each with a number of different endpoints (all fairly self-explanatory).\n",
    "1. Proteins\n",
    "2. Proteomes\n",
    "3. Taxonomy\n",
    "4. Coordinates\n",
    "5. UniParc"
   ]
  },
  {
   "cell_type": "markdown",
   "metadata": {},
   "source": [
    "### Interactive use of the Proteins API\n",
    "The Proteins API has a nice interactive feature which allows you to experiment with all the different endpoints and parameters, before you even start writing any code.\n",
    "\n",
    "Click on the following link and change the \"Response Content Type\" to \"text/x-fasta\" and then type \"P12345\" into the \"accession\" field. Finally, hit the \"Try it out\" button (you may need to scroll down a bit to find this) and take a look at the response data.\n",
    "\n",
    "https://www.ebi.ac.uk/proteins/api/doc/index.html#!/proteins/search\n",
    "\n",
    "You can even find sample code snippets (in bash/curl, Perl, Python, Ruby, Java and R) in the section \"Request Sample Code\".\n"
   ]
  },
  {
   "cell_type": "markdown",
   "metadata": {},
   "source": [
    "### Example 1: Retrieve mouse entries with unique proteomics peptide mappings\n",
    "\n",
    "First, we import the python \"requests\" library which allows simple access to HTTP endpoints.\n",
    "\n",
    "You can find out more about the requests library here: http://docs.python-requests.org/en/master/"
   ]
  },
  {
   "cell_type": "code",
   "execution_count": 1,
   "metadata": {},
   "outputs": [],
   "source": [
    "import requests"
   ]
  },
  {
   "cell_type": "markdown",
   "metadata": {},
   "source": [
    "To search for proteomics data, we need to set the URL to the correct query endpoint. Note the question mark at the end...it is important to include this."
   ]
  },
  {
   "cell_type": "code",
   "execution_count": 2,
   "metadata": {},
   "outputs": [],
   "source": [
    "url = 'https://www.ebi.ac.uk/proteins/api/proteomics?'"
   ]
  },
  {
   "cell_type": "markdown",
   "metadata": {},
   "source": [
    "Next, define the headers (used to set the data format e.g. fasta, xml, json) and the parameters for the search.\n",
    "\n",
    "The \"offset\" and \"size\" parameters are used to control the number of records returned. Here they are set explicitly to the default values of 0 and 100, respectively. The small size of 100 is fine for demonstration and testing, but for real analysis you probably want to use a larger value such as 50,000 (this is to avoid making lots of consecutive requests to the server)."
   ]
  },
  {
   "cell_type": "code",
   "execution_count": 3,
   "metadata": {},
   "outputs": [],
   "source": [
    "headers = {'Accept': 'application/json'}\n",
    "\n",
    "params = {\n",
    "    'taxid': 10090,\n",
    "    'unique': 'true',\n",
    "    'offset': 0,\n",
    "    'size': 100,\n",
    "}"
   ]
  },
  {
   "cell_type": "markdown",
   "metadata": {},
   "source": [
    "Finally, call the requests \"get\" method to retrive the data."
   ]
  },
  {
   "cell_type": "code",
   "execution_count": 4,
   "metadata": {},
   "outputs": [],
   "source": [
    "r = requests.get(url, headers=headers, params=params)"
   ]
  },
  {
   "cell_type": "markdown",
   "metadata": {},
   "source": [
    "One really nice feature of the requests library is that you can easily convert json format data into a Python dictionary, which makes it simple to access and filter the data fields in your scripts."
   ]
  },
  {
   "cell_type": "code",
   "execution_count": 5,
   "metadata": {},
   "outputs": [
    {
     "output_type": "execute_result",
     "data": {
      "text/plain": [
       "100"
      ]
     },
     "metadata": {},
     "execution_count": 5
    }
   ],
   "source": [
    "data = r.json()\n",
    "len(data)"
   ]
  },
  {
   "cell_type": "markdown",
   "metadata": {},
   "source": [
    "The data structure is actually a list of dictionaries, where each list item represents a single record. Let's take a look at the information available in the first record retrieved:"
   ]
  },
  {
   "cell_type": "code",
   "execution_count": 6,
   "metadata": {},
   "outputs": [
    {
     "output_type": "execute_result",
     "data": {
      "text/plain": [
       "{'accession': 'A0A023T778',\n",
       " 'entryName': 'A0A023T778_MOUSE',\n",
       " 'sequence': 'MSMGSDFYLRYYVGHKGKFGHEFLEFEFRPDGKLRYANNSNYKNDVMIRKEAYVHKSVMEELKRIIDDSEITKEDDALWPPPDRVGRQELEIVIGDEHISFTTSKIGSLIDVNQSKDPEGLRVFYYLVQDLKCLVFSLIGLHFKIKPI',\n",
       " 'sequenceChecksum': '2A47422841D17AF3',\n",
       " 'taxid': 10090,\n",
       " 'features': [{'type': 'PROTEOMICS',\n",
       "   'begin': '2',\n",
       "   'end': '10',\n",
       "   'xrefs': [{'name': 'Proteomes',\n",
       "     'id': 'UP000000589',\n",
       "     'url': 'https://www.uniprot.org/proteomes/UP000000589'}],\n",
       "   'evidences': [{'code': 'ECO:0000213',\n",
       "     'source': {'name': 'PeptideAtlas',\n",
       "      'id': 'A0A023T778',\n",
       "      'url': 'ftp://ftp.uniprot.org/pub/databases/uniprot/current_release/knowledgebase/proteomics_mapping/README'}},\n",
       "    {'code': 'ECO:0000213',\n",
       "     'source': {'name': 'MaxQB',\n",
       "      'id': 'A0A023T778',\n",
       "      'url': 'ftp://ftp.uniprot.org/pub/databases/uniprot/current_release/knowledgebase/proteomics_mapping/README'}}],\n",
       "   'peptide': 'SMGSDFYLR',\n",
       "   'unique': True}]}"
      ]
     },
     "metadata": {},
     "execution_count": 6
    }
   ],
   "source": [
    "data[0]"
   ]
  },
  {
   "cell_type": "markdown",
   "metadata": {},
   "source": [
    "Finally, we can loop through all the downloaded records and print out some selected details (in this case entry name, plus peptide sequence and position)."
   ]
  },
  {
   "cell_type": "code",
   "execution_count": 7,
   "metadata": {
    "tags": [
     "outputPrepend"
    ]
   },
   "outputs": [
    {
     "output_type": "stream",
     "name": "stdout",
     "text": [
      "GGSSAAAGSRPGDGGSLGSGAR, 28, 57\n\tAITKDENEWKEFEQR, 102, 116\n\tDENEWKEFEQR, 106, 116\n\tEDPGDNWEEGGGGSGAEK, 142, 159\n\tEFEQREVDYSGLR, 112, 124\n\tEVDYSGLR, 117, 124\n\tKTPQGPPEIYSDTQFPSLQSTAK, 204, 226\n\tPGDGGSLGSGAR, 46, 57\n\tREDPGDNWEEGGGGSGAEK, 141, 159\n\tSGDGGSAGPAGK, 90, 101\n\tSGDGGSLGSGSR, 58, 69\n\tSGDGGSSGSGAR, 70, 81\n\tSLDNFFAK, 8, 15\n\tSSGPWNK, 160, 166\n\tTAPVQAPPAPVTVTETPEPAMPSGVYRPPGAR, 167, 198\n\tTPQGPPEIYSDTQFPSLQSTAK, 205, 226\n\tVQAMQISEK, 125, 133\n\tVQAMQISEKEDDDNEK, 125, 140\n\tAETEERSLDNFFAK, 2, 15\n\tAITKDENEWK, 102, 111\n\tEDDDNEKREDPGDNWEEGGGGSGAEK, 134, 159\n\tSLDNFFAKR, 8, 16\n\tVQAMQISEKEDDDNEKR, 125, 141\n\tSGDGGSSRSGDGGSAGPAGK, 82, 101\nA0A087WNQ1_MOUSE\n\tAFQSAFR, 43, 49\n\tAQGPLAILEHFDTVYSILHHFR, 50, 71\n\tEDTLEFLK, 79, 86\n\tHLSSQLR, 36, 42\n\tHSQELSSILDDAALSGSDR, 92, 110\n\tMNCYALIR, 119, 126\n\tSGGVNQYVVR, 20, 29\n\tSIEPGLK, 72, 78\n\tSIEPGLKEDTLEFLK, 72, 86\n\tSIEPGLKEDTLEFLKK, 72, 87\n\tSPHNFEFHLPLSPEELLK, 2, 19\n\tSAHLNALK, 111, 118\n\tSGGVNQYVVREVLPVK, 20, 35\n\tLLESFENMTSQTSLIDLDIGGK, 127, 148\nA0A087WNQ2_MOUSE\n\tQQLDAVHR, 24, 31\n\tMDSVEEPQK, 1, 9\n\tMDSVEEPQKK, 1, 10\n\tLLNGSHENGDLDPTSPLENTDCIQDR, 43, 68\nA0A087WNQ4_MOUSE\n\tINIPPPSVNR, 8, 17\nA0A087WNQ7_MOUSE\n\tAVGPAAATPYGVFCK, 14, 28\n\tGPADAPSALALR, 2, 13\n\tMGPADAPSALALR, 1, 13\nA0A087WNQ8_MOUSE\n\tFILHEALVENTIPNIK, 62, 77\n\tFQHLNESQHNYLR, 27, 39\n\tSLGELGYESFK, 46, 56\nA0A087WNR0_MOUSE\n\tDLGEVCHLYYPK, 76, 87\n\tHFLYGLPNEEQGGVQGSG, 490, 507\n\tLSRPSYGSISSLPGPAPQPAPCR, 10, 32\n\tMISDKSPPR, 1, 9\n\tPSYGSISSLPGPAPQPAPCR, 13, 32\nA0A087WNR1_MOUSE\n\tMNPVYSPGSSGVPYANAK, 1, 18\nA0A087WNR3_MOUSE\n\tQASCGPGAFTR, 33, 43\nA0A087WNR5_MOUSE\n\tCLDQQCELR, 3, 11\n\tKAEIEMDYSR, 25, 34\n\tAEIEMDYSR, 26, 34\n\tKAEIEMDYSRNLEK, 25, 38\nA0A087WNR6_MOUSE\n\tMGIGELDPSIAVGFFCK, 23, 39\n\tTEEDFNDWCQQVK, 40, 52\nA0A087WNR7_MOUSE\n\tAFVNIQKELANFSK, 53, 66\n\tNVFHIASHK, 13, 21\n\tINIMNHEK, 39, 46\nA0A087WNS0_MOUSE\n\tAGMTHIVR, 51, 58\n\tAGMTHIVREVDRPGSK, 51, 66\n\tDDASKPVHLTAFLGYK, 35, 50\n\tEVDRPGSK, 59, 66\n\tEVVEAVTIVETPPMVVVGIVGYVETPR, 71, 97\n\tHGSLGFLPR, 11, 19\n\tHGSLGFLPRK, 11, 20\n\tPVHLTAFLGYK, 40, 50\n\tSFPKDDASKPVHLTAFLGYK, 31, 50\n\tTVFAEHISDECK, 104, 115\n\tTVFAEHISDECKR, 104, 116\nA0A087WNS2_MOUSE\n\tAALDEAQGVGLDSTGYYDQEIYGGSDSR, 23, 50\n\tFAGYVTSIAATELEDDDDDYSSSTSLLGQK, 51, 80\n\tIADREDEYK, 112, 120\n\tIADREDEYKK, 112, 121\n\tKAALDEAQGVGLDSTGYYDQEIYGGSDSR, 22, 50\n\tKPGYHAPVALLNDIPQSTEQYDPFAEHRPPK, 81, 111\n\tTHEDIEAQIR, 7, 16\n\tTHEDIEAQIREIQGK, 7, 21\n\tTHEDIEAQIREIQGKK, 7, 22\n\tTMIISPER, 125, 132\nA0A087WNS5_MOUSE\n\tGWEAVLAAAQR, 18, 28\n\tLRGWEAVLAAAQR, 16, 28\n\tLATSLWLR, 8, 15\nA0A087WNS9_MOUSE\n\tNNINCLWPVSCQEK, 37, 50\nA0A087WNT1_MOUSE\n\tAMLSGPGQFAENETNEVNFR, 66, 85\n\tAMLSGPGQFAENETNEVNFREIPSHVLSK, 66, 94\n\tEHALTSGTIK, 56, 65\n\tEIPSHVLSK, 86, 94\n\tLISSDGHEFIVK, 43, 54\n\tLISSDGHEFIVKR, 43, 55\n\tREHALTSGTIK, 55, 65\n\tTYGGCEGPDAMYVK, 29, 42\n\tVCMYFTYK, 95, 102\n\tLISSDGHEFIVKREHALTSGTIK, 43, 65\nA0A087WNT2_MOUSE\n\tNNINCLWPVSCQEK, 37, 50\n\tDHYCITLSAAAGFGNVNLGYTLNK, 51, 74\nA0A087WNT3_MOUSE\n\tGTLGSSGSSGGSHPSSR, 86, 102\n\tHTPPTIGGSLPYR, 207, 219\n\tIIAPANLERPVR, 20, 31\n\tKPIDYTILDDIGHGVK, 35, 50\n\tVSTQNMK, 57, 63\n\tDKEDELSFQEGAIIYVIK, 312, 329\n\tPIDYTILDDIGHGVK, 36, 50\n\tYIRKPIDYTILDDIGHGVK, 32, 50\n\tTTPPTQKPPSPPMSGK, 70, 85\nA0A087WNT6_MOUSE\n\tDLPAELLDAPFVR, 282, 294\n\tLDLSENLLDTIPSEIGNLR, 204, 222\n\tLPLTLGSLSTLQR, 191, 203\n\tLQYLCSQQPPQLLQVEFLR, 55, 73\nA0A087WNT9_MOUSE\n\tEATLPFLFTPFK, 35, 46\n\tAESMFTNAVQILEQFK, 12, 27\n\tKEATLPFLFTPFK, 34, 46\nA0A087WNU1_MOUSE\n\tAGAAPMETVDK, 10, 20\n\tAGAAPMETVDKR, 10, 21\n\tHAAALSQALQLEAPELPVQVNPSKPR, 44, 69\n\tKAGAAPMETVDKR, 9, 21\n\tAGAAPMETVDKREK, 10, 23\n\tHAAALSQALQLEAPELPVQVNPSK, 44, 67\nA0A087WNU5_MOUSE\n\tADHAQSNEIVTSK, 1498, 1510\n\tDGDPPSSALNHPPR, 1645, 1658\n\tDIEVLEGKPIYVDCYGNLAPLTK, 75, 97\n\tDSPSSDVFDHGSVDGLEK, 1763, 1780\n\tDYSSQSSTSSSPEK, 1328, 1341\n\tELAGLFEHK, 997, 1005\n\tELICVPYMAK, 23, 32\n\tELNFSVDEINQIR, 2784, 2796\n\tEQLSHVLVHDIR, 1575, 1586\n\tGLPQTAVCNLNITLPAHK, 142, 159\n\tGPDGQSVPQAEDR, 1360, 1372\n\tIIEVHIEK, 1037, 1044\n\tIRDTSQEPCGR, 120, 130\n\tISTATNAVSSVVSAASDTVEK, 462, 482\n\tKDVWTEGILKPADR, 2133, 2146\n\tKLPDSNSFTK, 555, 564\n\tLEVIEEEEGK, 2153, 2162\n\tLQFFQIGEHTPEGK, 2320, 2333\n\tLTVLHYSGNVSGPK, 1247, 1260\n\tMADSFFGADAILESPDDFSQHDQDK, 806, 830\n\tMAIVADHLGLSWTELAR, 2767, 2783\n\tNATTDALTSVLTK, 2821, 2833\n\tPLFHEVPIPPVITETR, 859, 874\n\tQAAASHAPSLPER, 719, 731\n\tQSFASLALR, 177, 185\n\tSAAALLSPIK, 565, 574\n\tSAAETSAQHAEK, 1015, 1026\n\tSGSLSSSPSNTPSASPLK, 238, 255\n\tSLPTTYSHK, 206, 214\n\tSNSPENRVPTQQSEDDQPPEEAK, 1378, 1400\n\tSSLFLASSALKPSVPSSLSSSQEILK, 595, 620\n\tTEVVHVIR, 875, 882\n\tTLEQQENFEEVAR, 60, 72\n\tTNDPVESSLR, 39, 48\n\tTPSAPQSAESTGPK, 845, 858\n\tTVVSPSPYNPQVASGTLGR, 300, 318\n\tVGLDEEKPSPSK, 2163, 2174\n\tVIDYLTNDIGSSSLTNLK, 741, 758\n\tVKEETHITTTTR, 948, 959\n\tVNTPGSQEEDSRPSSAQLLSDDSYK, 1120, 1144\n\tAASTCTTEEANPVK, 2501, 2514\n\tAFQSGRDPSK, 987, 996\n\tAMPDFFPEQQVEDSACPITSDLETK, 1527, 1551\n\tASSEEEDHSR, 931, 940\n\tATMASSLSSPLK, 411, 422\n\tAVDPLEERVPVQNDVTVFK, 1479, 1497\n\tCFCMTDDRVDK, 49, 59\n\tDGKNATTDALTSVLTK, 2818, 2833\n\tDVWTEGILKPADR, 2134, 2146\n\tEETHITTTTR, 950, 959\n\tEGRIDDEEPFK, 653, 663\n\tEISSAPSSQVGIRPQEK, 2451, 2467\n\tELNFSVDEINQIRVENPNSLISQSFMLLK, 2784, 2812\n\tENRLPFSIK, 111, 119\n\tEVDMMEVSLQDESDK, 1970, 1984\n\tFWLADCHQVLETVGLASQLYR, 2, 22\n\tGGQQLVFNFYSFK, 98, 110\n\tGHSPEDDWTEFSSEEIR, 699, 715\n\tGHSPEDDWTEFSSEEIREAR, 699, 718\n\tGLAPNSTFSSR, 330, 340\n\tGNINLRDFLPEK, 1076, 1087\n\tGNQAEPTEVIIR, 1045, 1056\n\tGNQAEPTEVIIRETK, 1045, 1059\n\tGQEGPQSGFQLK, 1409, 1420\n\tHAMWMHLSEDRLDR, 1261, 1274\n\tHDAFPCPEEQGQQEEEELAAEESLPSYLESSR, 1088, 1119\n\tHPIEYFK, 2673, 2679\n\tHQSYLALDETETSPTK, 1736, 1751\n\tIDDEEPFK, 656, 663\n\tIDIVTLLEGPIFDYGNISGTR, 2837, 2857\n\tIEETMSVHDIMK, 975, 986\n\tILKPAMALQEHK, 775, 786\n\tINRIDIVTLLEGPIFDYGNISGTR, 2834, 2857\n\tLDVSHSDTEESVTDHAGPPSSELQGSDK, 1181, 1208\n\tLEVIEEEEGKVGLDEEKPSPSK, 2153, 2174\n\tLLSQHSVEYHDDELSDLRGESYR, 1148, 1170\n\tLNDELQSPEK, 1310, 1319\n\tLPSQTIDTK, 2124, 2132\n\tLSFLKEPK, 131, 138\n\tLTEVSQFFR, 1296, 1304\n\tMQSELSDEEESTSR, 2699, 2712\n\tMTAILQTDVPEEK, 632, 644\n\tMTAILQTDVPEEKPFQTDLPR, 632, 652\n\tMVYHSPPGGECASER, 960, 974\n\tMVYHSPPGGECASERIEETMSVHDIMK, 960, 986\n\tPAMALQEHK, 778, 786\n\tPFFSTRPYQSWTTAPITVPGPAK, 215, 237\n\tPFQTDLPR, 645, 652\n\tPIYVDCYGNLAPLTK, 83, 97\n\tPSPTFMELEPKPTTSSIK, 904, 921\n\tPSVPSSLSSSQEILK, 606, 620\n\tPYQSWTTAPITVPGPAK, 221, 237\n\tQPPSPQGSPEDDTLEQVSFLDSSGK, 1838, 1862\n\tQSFASLALRK, 177, 186\n\tRTVVAQSR, 1401, 1408\n\tSAMSPDVAK, 1006, 1014\n\tSFSQSKLEVIEEEEGK, 2147, 2162\n\tSGAQFFTLEGR, 2189, 2199\n\tSGAQFFTLEGRHPDR, 2189, 2203\n\tSIITSATPLISSPLK, 379, 393\n\tSISDVASPIR, 280, 289\n\tSIWSVSTPSPIK, 256, 267\n\tSKDIEVLEGKPIYVDCYGNLAPLTK, 73, 97\n\tSNITMYSSSLPFK, 366, 378\n\tSPATTPDTTPAR, 2266, 2277\n\tSPDSLEFSPGK, 1752, 1762\n\tSPDSLEFSPGKDSPSSDVFDHGSVDGLEK, 1752, 1780\n\tSPLSDSGFETR, 831, 841\n\tSPLTPETPSSEEVSYEFTSK, 1863, 1882\n\tSPSSDRTPEK, 2175, 2184\n\tSTLGASTTSSVK, 268, 279\n\tSVLPDTYFSYK, 2204, 2214\n\tSYEPSSGEIPQSQPEDPVSPK, 883, 903\n\tSYVSAAPSAFQSLR, 497, 510\n\tTEAVVTSCQGLENEIVK, 2434, 2450\n\tTLEQQENFEEVARSK, 60, 74\n\tTLPVYVSFVQVGK, 1789, 1801\n\tTLTTETRPQPHFNR, 575, 588\n\tTWESSGANNTK, 1561, 1571\n\tVDEEFATPFK, 2215, 2224\n\tVENPNSLISQSFMLLK, 2797, 2812\n\tVENPNSLISQSFMLLKK, 2797, 2813\n\tVLTELLASNDEWVK, 1342, 1355\n\tVPTITEATPIK, 319, 329\n\tVPVQNDVTVFK, 1487, 1497\n\tVSRPSMSEGVVESQHFNSVDDEK, 1702, 1724\n\tYPSSSALINGCK, 442, 453\nA0A087WNU6_MOUSE\n\tASPVVEERPDK, 241, 251\n\tDMLLELEEQLAESQR, 358, 372\n\tDQIQDVEGK, 305, 313\n\tDSLAEVEEK, 323, 331\n\tEELNALK, 506, 512\n\tELNELKDQIQDVEGK, 299, 313\n\tHAHSILQFQFAEVK, 386, 399\n\tHGIILNSEIATNGETSDTVNDVGYQAPTK, 474, 502\n\tITKEELNALK, 503, 512\n\tLTAEDDALNQIAR, 19, 31\n\tNMPSLSAATLASLGGTSSR, 260, 278\n\tRGSGDTSISMDTEASIR, 279, 295\n\tTNFMYQVDTLK, 347, 357\n\tAMVSNAQLDNEKTNFMYQVDTLK, 335, 357\n\tDMLLELEEQLAESQRQYEEK, 358, 377\n\tEEMLEEIR, 406, 413\n\tEFFDSIR, 448, 454\n\tEISDLQETIEWK, 425, 436\n\tEISDLQETIEWKDK, 425, 438\n\tKLIDERECLLEQIK, 525, 538\n\tLIDERECLLEQIK, 526, 538\n\tLKEELKK, 467, 473\n\tMDMGTQGSGRK, 1, 11\n\tNTSASDEDERLSVGSR, 96, 111\n\tQREEMLEEIR, 404, 413\n\tSAGEGTLDVR, 513, 522\n\tSAGEGTLDVRLK, 513, 524\n\tTNGYDGDYCGSQSLSR, 129, 144\n\tELERQQK, 54, 60\n\tGSGDTSISMDTEASIR, 280, 295\n\tNKEFEREK, 378, 385\nA0A087WNU8_MOUSE\n\tFKLDLDFPNLPYLIDGSHK, 17, 35\n\tLDLDFPNLPYLIDGSHK, 19, 35\nA0A087WNU9_MOUSE\n\tHTPPTIGGSLPYR, 213, 225\n\tNMAPSQQSPVR, 73, 83\n\tTLEPVRPPVVPNDYVPSPTR, 53, 72\n\tTYSSSGSSGGSHPSSR, 93, 108\n\tVSTQNMK, 14, 20\n\tDKEDELSFQEGAIIYVIK, 347, 364\n\tNRTYSSSGSSGGSHPSSR, 91, 108\n\tTTPPTQKPPSPPMSGK, 27, 42\nA0A087WNV1_MOUSE\n\tAGLQTADK, 279, 286\n\tAGLQTADKYAALANLDNIFSAGQGGDQGSGFGTTGK, 279, 314\n\tAPVGSVVSVPSHSSASSDK, 315, 333\n\tCFDCDQR, 29, 35\n\tDMTGLPHNR, 19, 27\n\tGTPSQSPVVGR, 176, 186\n\tQIWLGLFDDR, 91, 100\n\tRWYVPPEQAK, 125, 134\n\tSLLGESAPALHLNK, 162, 175\n\tSQGQQQEK, 187, 194\n\tSSAIPDFRDPQK, 101, 112\n\tSSSADFGTFSTSQSHQTASTVSK, 251, 273\n\tYAALANLDNIFSAGQGGDQGSGFGTTGK, 287, 314\n\tDMTGLPHNRK, 19, 28\n\tHGNEVCK, 84, 90\n\tQIWLGLFDDRSSAIPDFRDPQK, 91, 112\n\tSISMTTFTQQEIEFLQK, 67, 83\n\tVVASVHASISGSSASSTSSTPEVK, 135, 158\n\tVVASVHASISGSSASSTSSTPEVKPLK, 135, 161\n\tYAALANLDNIFSAGQGGDQGSGFGTTGKAPVGSVVSVPSHSSASSDK, 287, 333\n\tGPTYVNMTVGSFVCTSCSGSLR, 36, 57\n\tSLLGESAPALHLNKGTPSQSPVVGR, 162, 186\nA0A087WNV4_MOUSE\n\tGWEAVLAAAQR, 57, 67\n\tLRGWEAVLAAAQR, 55, 67\n\tLATSLWLR, 47, 54\nA0A087WNV6_MOUSE\n\tAPELFSYIAK, 886, 895\n\tDNFEDETEDDDLFETEFR, 414, 431\n\tEIQGISEQYLR, 665, 675\n\tFDSNCITPGTEFMAR, 128, 142\n\tFYIEEPPGTQK, 629, 639\n\tGETLPTEAR, 119, 127\n\tGQENSLSWAALDK, 392, 404\n\tKNEEVPGYTK, 854, 863\n\tKVFFMAVDGVAPR, 79, 91\n\tLGVSGYLVSR, 813, 822\n\tLLEAMETCNHSLK, 574, 586\n\tLSDFDREHFSEVFVDLK, 343, 359\n\tNLLPTCYQHLMTSEDSPIIEYYPPDFK, 524, 550\n\tNSQEDVFYEDDIWPGENENGAEK, 896, 918\n\tQILPFVYQTIVK, 715, 726\n\tQQEWEAVVLIPFIDETR, 557, 573\n\tSSCDLHILDAAIVEK, 937, 951\n\tSSCDLHILDAAIVEKIEEEVEK, 937, 958\n\tVGNEWMYSSAAEQLLAEYIER, 865, 885\n\tVQEIITWLK, 919, 927\n\tVVFSIPCEPNLDALIQNQHK, 779, 798\n\tYLNEAAGAAAEEAK, 369, 382\n\tANVGLNLK, 843, 850\n\tEHFSEVFVDLK, 349, 359\n\tEYIDYEFSALK, 256, 266\n\tFTGSIFIGR, 823, 831\n\tGIIINETSAVVYAQLLTGRK, 678, 697\n\tGQENSLSWAALDKSEGEGVASR, 392, 413\n\tIEEEVEK, 952, 958\n\tIHFELGKPFKPFEQLLAVLPSASK, 500, 523\n\tITFKYDIEK, 269, 277\n\tPFEQLLAVLPSASK, 510, 523\n\tPFKPFEQLLAVLPSASK, 507, 523\n\tSWQGVTIYFSGHETPGEGEHK, 160, 180\n\tTLDDLFPPR, 740, 748\n\tVCAPEETTFHLLHLSLMR, 238, 255\n\tVFFMAVDGVAPR, 80, 91\n\tVIQLTDKEQSNWTK, 651, 664\n\tYQISQNGEVR, 698, 707\n\tGIIINETSAVVYAQLLTGR, 678, 696\n\tKVGNEWMYSSAAEQLLAEYIER, 864, 885\n\tTMVFMLGTPYYGCTGEVQDSGDLITEGR, 749, 776\n\tWISERYPCLSEVVK, 9, 22\n\tYNPGYVLAGR, 803, 812\nA0A087WNW0_MOUSE\n\tEFETPEK, 31, 37\n\tKLQEVDSLWK, 21, 30\n\tKLQEVDSLWKEFETPEK, 21, 37\n\tLQEVDSLWK, 22, 30\n\tLQEVDSLWKEFETPEK, 22, 37\n\tMLVLFETSVGYAIFK, 1, 15\n\tEFETPEKANK, 31, 40\nA0A087WNW2_MOUSE\n\tAAPYWLDEPK, 329, 338\n\tAYLTVLADQATPTNR, 599, 613\n\tDDEPLYIGNR, 554, 563\n\tDLELTDLAER, 627, 636\n\tDNILIECEAK, 51, 60\n\tDQGSYTCMASTELDQDLAK, 580, 598\n\tDTQISSR, 391, 397\n\tEDDSLTIFGVAER, 567, 579\n\tEDQGIYTCVATNILGK, 488, 503\n\tEVAGDTIIFR, 381, 390\n\tFGTALSNR, 118, 125\n\tFHFTHTIQQK, 211, 220\n\tFPGSVNSAVLHLSPYVNYQFR, 675, 695\n\tGGDLPSNK, 278, 285\n\tGNPAPSFHWTR, 61, 71\n\tGTTVQLECR, 530, 538\n\tGVAERDQGSY, 575, 584\n\tITNVSEEDSGEYFCLASNK, 297, 315\n\tKEDDSLTIFGVAER, 566, 579\n\tKEDQGIYTCVATNILGK, 487, 503\n\tKGGDLPSNK, 277, 285\n\tLDCPFFGSPIPTLR, 444, 457\n\tLTVSWLK, 547, 553\n\tMPEDQVAK, 521, 528\n\tNLILAPGEDGR, 339, 349\n\tQFRVIAVNEVGSSHPSLPSERY, 693, 714\n\tRVIAVNEVGSSHPSLPSERY, 695, 714\n\tSGGRPEEYEGEYQCFAR, 99, 115\n\tSGTLVIDFR, 90, 98\n\tTPSFMYPQGTSSSQMVLR, 237, 254\n\tTRLDCPFFGSPIPTLR, 442, 457\n\tTSGAPPESNPSDVK, 716, 729\n\tVIAVNEVGSSHPSLPSER, 696, 713\n\tVQAENDFGK, 795, 803\n\tVYSDTVQGQLR, 843, 853\n\tYVVGQTPVYVPYEIR, 780, 794\n\tAKFENFNK, 286, 293\n\tANGNPKPTVQWMVNGEPLQSAPPNPNR, 354, 380\n\tANGNPKPTVQWMVNGEPLQSAPPNPNREVAGDTIIFR, 354, 390\n\tAYLTVLADQATPTNRLAALPK, 599, 619\n\tDDEPLYIGNRMK, 554, 565\n\tDHIVDPR, 44, 50\n\tDHIVDPRDNILIECEAK, 44, 60\n\tEVAGDTIIFRDTQISSR, 381, 397\n\tFFNIAKDPR, 75, 83\n\tGMDLLLECIASGVPTPDIAWYK, 255, 276\n\tGMDLLLECIASGVPTPDIAWYKK, 255, 277\n\tGPEPDTIIGYSGEDYPR, 804, 820\n\tGPEPDTIIGYSGEDYPRAAPTEVK, 804, 827\n\tIYRMPEDQVAK, 518, 528\n\tLEVKDPTR, 510, 517\n\tLTVSWLKDDEPLYIGNR, 547, 563\n\tLTWIPGDDNNSPITDYVVQFEEDQFQPGVWHDHSR, 640, 674\n\tMIRKEDQGIYTCVATNILGK, 484, 503\n\tMPEDQVAKR, 521, 529\n\tNLILAPGEDGRLVCR, 339, 353\n\tPTVQWMVNGEPLQSAPPNPNR, 360, 380\n\tQSVKDHIVDPR, 40, 50\n\tRGTTVQLECR, 529, 538\n\tRVSQGHNGDLYFSNVMLQDMQTDYSCNAR, 182, 210\n\tTSGAPPESNPSDVKGEGTR, 716, 734\n\tVKHDPSLK, 539, 546\n\tVQAENDFGKGPEPDTIIGYSGEDYPR, 795, 820\n\tVSQGHNGDLYFSNVMLQDMQTDYSCNAR, 183, 210\nA0A087WNW3_MOUSE\n\tAAGDTVVIENSDISPEMSEVIGK, 1220, 1242\n\tACVAGTSDAEAVK, 1051, 1063\n\tAHQLSVTSQVQELQNLLR, 856, 873\n\tAKQSDQVSFVSLIEDLKR, 787, 804\n\tAQIQQFHSQIAAQTSASVLAEELHK, 586, 610\n\tAQQSLNSIHSK, 1205, 1215\n\tASKEESLQIQVQDILEQNEALK, 564, 585\n\tCQLSHQK, 955, 961\n\tDAVSNTTNQLESK, 434, 446\n\tDFKLSDASPAEDEQFVPAPLNVAETSSSVR, 83, 112\n\tDFLLSLK, 289, 295\n\tDMENLRR, 1145, 1151\n\tDTESDVSK, 931, 938\n\tDVQNMNFLLK, 642, 651\n\tDVVEQMEK, 731, 738\n\tEASEMHTLLQLECEK, 1071, 1085\n\tEEELSAIR, 765, 772\n\tEEIGNAQLEK, 846, 855\n\tEEQVNSMK, 876, 883\n\tEESLQIQVQDILEQNEALK, 567, 585\n\tEHLEMELEK, 1154, 1162\n\tEHNIFQNK, 389, 396\n\tEIIDMIKPDHVEGIQK, 253, 268\n\tEIQNGTLRESDSEHVPR, 66, 82\n\tEITDLCNELESLK, 983, 995\n\tEKEITDLCNELESLK, 981, 995\n\tENEVQSLHSK, 529, 538\n\tEQDVLLSHQDTK, 192, 203\n\tEQDVLLSHQDTKQEGGLGK, 192, 210\n\tEREHLEMELEK, 1152, 1162\n\tEREHLEMELEKAEMER, 1152, 1167\n\tERLLSAMKEDAAASK, 341, 355\n\tERSSVVIAR, 370, 378\n\tESDASKIPGK, 132, 141\n\tESDSEHVPR, 74, 82\n\tEVQEENK, 945, 951\n\tFKDFLLSLK, 287, 295\n\tFQQVQEQMEAEIAHLK, 411, 426\n\tFVAKENEVQSLHSK, 525, 538\n\tGELSGLLHQLQEK, 328, 340\n\tGTCAQVCSTPQFEELESVLK, 897, 916\n\tHQQASFPSQEELQTVISEK, 962, 980\n\tHQQASFPSQEELQTVISEKEK, 962, 982\n\tIETDKENAEVK, 276, 286\n\tIGTLEKEHNIFQNK, 383, 396\n\tILSEQNK, 705, 711\n\tKLQTAVSQQPNK, 719, 730\n\tKLQTAVSQQPNKDVVEQMEK, 719, 738\n\tKNAEQAATQLK, 480, 490\n\tKQKPSLEEQVIK, 120, 131\n\tKVEMLMAPSK, 182, 191\n\tKVEPVLVTK, 142, 150\n\tLFPTVSVPSNLNYSEWLR, 1026, 1043\n\tLKDTESDVSK, 929, 938\n\tLKEASEMHTLLQLECEK, 1069, 1085\n\tLKIETDKENAEVK, 274, 286\n\tLLEEQLQHEVASK, 687, 699\n\tLLEEQLQHEVASKMEELK, 687, 704\n\tLLSAMKEDAAASK, 343, 355\n\tLLSAMKEDAAASKER, 343, 357\n\tLMQLMESEQK, 553, 562\n\tLMQLMESEQKR, 553, 563\n\tLQALANEQAATAHEVEK, 657, 673\n\tLQNEQTER, 1188, 1195\n\tLQQEGVQK, 472, 479\n\tLQTAVSQQPNK, 720, 730\n\tLQTAVSQQPNKDVVEQMEK, 720, 738\n\tLSDASPAEDEQFVPAPLNVAETSSSVR, 86, 112\n\tLTDTLVSK, 539, 546\n\tLVSELNEK, 461, 468\n\tMHASYQETQQMQMK, 397, 410\n\tNAEQAATQLK, 481, 490\n\tNAVEHQR, 996, 1002\n\tQEIEVLKEEIGNAQLEK, 839, 855\n\tQHVEAIELESK, 1010, 1020\n\tQKPSLEEQVIK, 121, 131\n\tQKPSLEEQVIKESDASKIPGK, 121, 141\n\tQLTQEMMTEK, 360, 369\n\tQMQSSFTASER, 1124, 1134\n\tQMQSSFTASERELER, 1124, 1138\n\tQPAPPPPLEAAALK, 151, 164\n\tQPAPPPPLEAAALKK, 151, 165\n\tQSAELNK, 447, 453\n\tQSDQVSFVSLIEDLK, 789, 803\n\tQSDQVSFVSLIEDLKR, 789, 804\n\tQTEDSLANEQDHLASK, 621, 636\n\tQTEDSLANEQDHLASKEEELK, 621, 641\n\tQTEDSLANEQDHLASKEEELKDVQNMNFLLK, 621, 651\n\tRASKEESLQIQVQDILEQNEALK, 563, 585\n\tRLFPTVSVPSNLNYSEWLR, 1025, 1043\n\tRQHVEAIELESK, 1009, 1020\n\tRTAEHEAAQQDLQSK, 510, 524\n\tRWEEVQSYIR, 499, 508\n\tSENVAVLVDEPLIHATTYIPLDNANSNLMMDK, 220, 251\n\tSENVAVLVDEPLIHATTYIPLDNANSNLMMDKR, 220, 252\n\tSNKGELSGLLHQLQEK, 325, 340\n\tSNKGELSGLLHQLQEKER, 325, 342\n\tSTYVMEVR, 1168, 1175\n\tSVEELLEVELLK, 815, 826\n\tSVEQEESK, 1103, 1110\n\tSVEQEESKWK, 1103, 1112\n\tSVLAETEGILQK, 1088, 1099\n\tTAEHEAAQQDLQSK, 511, 524\n\tTENSTLTR, 773, 780\n\tTMMFSEDEALCVVDLLK, 296, 312\n\tTMMFSEDEALCVVDLLKEK, 296, 314\n\tTQLNETHSK, 1179, 1187\n\tTVEELLETGLIQVATR, 749, 764\n\tTVEELLETGLIQVATREEELSAIR, 749, 772\n\tTVQALKQEIEVLKEEIGNAQLEK, 833, 855\n\tVADDLHK, 1198, 1204\n\tVEMLMAPSKEQDVLLSHQDTK, 183, 203\n\tVEPVLVTK, 143, 150\n\tVIHEKDGQIK, 805, 814\n\tVQLQEAER, 491, 498\n\tVQLQEAERR, 491, 499\n\tWEEVQSYIR, 500, 508\n\tWEEVQSYIRK, 500, 509\n\tAALEDRDRDLR, 884, 894\n\tAKQSDQVSFVSLIEDLK, 787, 803\n\tDRIGTLEK, 381, 388\n\tERLLSAMK, 341, 348\n\tEVQEENKFLK, 945, 954\n\tGKEEQVNSMK, 874, 883\n\tGRGTCAQVCSTPQFEELESVLK, 895, 916\n\tGTCAQVCSTPQFEELESVLKEK, 897, 918\n\tIRLLEEQLQHEVASK, 685, 699\n\tIRLLEEQLQHEVASKMEELK, 685, 704\n\tLKEASEMHTLLQLECEKYK, 1069, 1087\n\tLQQEGVQKK, 472, 480\n\tLRQDCGR, 454, 460\n\tLRTVEELLETGLIQVATR, 747, 764\n\tLRTVEELLETGLIQVATREEELSAIR, 747, 772\n\tNNERRQHVEAIELESK, 1005, 1020\n\tQLTQEMMTEKER, 360, 371\n\tQQLEQRLMQLMESEQK, 547, 562\n\tREIIDMIKPDHVEGIQK, 252, 268\n\tRLFPTVSVPSNLNYSEWLRGFEK, 1025, 1047\n\tRWEEVQSYIRK, 499, 509\n\tSIHVKEDK, 677, 684\n\tSSVVIAR, 372, 378\n\tTVEELLETGLIQVATREEELSAIRTENSTLTR, 749, 780\n\tLQRSVEQEESK, 1100, 1110\nA0A087WNW8_MOUSE\n\tAAEEAASTLASSIHPEQCIK, 1343, 1362\n\tAFDDVPVVQIYSSR, 305, 318\n\tAKVVSQSQPGSR, 682, 693\n\tALQSHLK, 535, 541\n\tAQIGTVLPSLIDR, 87, 99\n\tCFEFLDLLLQEWQTHSLER, 464, 482\n\tDAAINSLVEIYR, 185, 196\n\tDCDIVSR, 1148, 1154\n\tDGGAASPATEGR, 1155, 1166\n\tDLEESINK, 319, 326\n\tDSVREQDQTLLLK, 105, 117\n\tDVPIDHSDLVADLLK, 1232, 1246\n\tEACITLGHLSSVLGNK, 387, 402\n\tEAEHLYHTLESSYQK, 520, 534\n\tEAVFDDDMEQLR, 1220, 1231\n\tEDSLGVWEEHFK, 1271, 1282\n\tEGAGAVDEEDFIK, 292, 304\n\tEILSDDKHDWEQR, 329, 341\n\tEYNPYPYSDTINTYDK, 1200, 1215\n\tFDHGAEAIMPTIFNLIPNSAK, 403, 423\n\tFGLGQSGR, 745, 752\n\tFIVDQTQTPNLK, 958, 969\n\tFSFRSQEDLNEPIKR, 1129, 1143\n\tGALLELLK, 1260, 1267\n\tGIHDADSEAR, 494, 503\n\tGPPVTPSSEK, 712, 721\n\tIMDQAANPQYVWDR, 118, 131\n\tIVPHICNLLGDPNSQVR, 168, 184\n\tLLGSGLAGGSSR, 700, 711\n\tLMSSSLGSK, 278, 286\n\tLQVGQELIDYFSDR, 21, 34\n\tNFDDEDSVDGNRPSSASSSSSK, 240, 261\n\tNSDSIVSLPQSDR, 542, 554\n\tNSDSIVSLPQSDRSSSSSQESLNRPLSAK, 542, 570\n\tNSSNTGVGSPSNTIGR, 1059, 1074\n\tQSSGSTTNVASTPSDSR, 661, 677\n\tQTEDVAEVLNHCASSNWSER, 829, 848\n\tRAQTTNSNSSSSSDVSTHS, 1457, 1475\n\tRLQVGQELIDYFSDR, 20, 34\n\tRNVNLGTTR, 268, 276\n\tRQSSGSTTNVASTPSDSR, 660, 677\n\tRYEPYGMYSDDDANSDASSVCSER, 791, 814\n\tSADLEHDQTLLDK, 37, 49\n\tSGNMIQSANEK, 229, 239\n\tSLLLAGAAEYDNFFQHLR, 350, 367\n\tSQEDLNEPIKR, 1133, 1143\n\tSRSDIDVNAAASAK, 598, 611\n\tSSSSSQESLNRPLSAK, 555, 570\n\tTSLLNTQPPR, 1182, 1191\n\tVVSQSQPGSR, 684, 693\n\tVVSQSQPGSRSSSPGK, 684, 699\n\tAFDDVPVVQIYSSRDLEESINK, 305, 326\n\tALDVTRDSFPFDQQFNILMR, 938, 957\n\tAQIGTVLPSLIDRLGDAK, 87, 104\n\tAQTTNSNSSSSSDVSTHS, 1458, 1475\n\tAREYNPYPYSDTINTYDK, 1198, 1215\n\tDSFPFDQQFNILMR, 944, 957\n\tEACITLGHLSSVLGNKFDHGAEAIMPTIFNLIPNSAK, 387, 423\n\tEAVFDDDMEQLRDVPIDHSDLVADLLK, 1220, 1246\n\tELSNHNERVEERK, 1247, 1259\n\tESLLQLLVDIIPGLLQGYDNTESSVRK, 1393, 1419\n\tEVVRAAEEAASTLASSIHPEQCIK, 1339, 1362\n\tFGLGQSGRIPGSVNAMR, 745, 761\n\tFSFRSQEDLNEPIK, 1129, 1142\n\tGGSEIEGGR, 1167, 1175\n\tGPPVTPSSEKR, 712, 722\n\tGVTEAIEK, 1121, 1128\n\tHISVLAETIK, 483, 492\n\tHISVLAETIKK, 483, 493\n\tIITWTTEPK, 1003, 1011\n\tIMATSGVVAVR, 424, 434\n\tIMDQAANPQYVWDRMLGGFK, 118, 137\n\tIPGSVNAMR, 753, 761\n\tIREILSDDKHDWEQR, 327, 341\n\tIRSLLLAGAAEYDNFFQHLR, 348, 367\n\tITREDSLGVWEEHFK, 1268, 1282\n\tLLDGAFK, 368, 374\n\tLLGSGLAGGSSRGPPVTPSSEK, 700, 721\n\tLLHNHLK, 1052, 1058\n\tLNVIFTK, 216, 222\n\tLNVIFTKFDEVQK, 216, 228\n\tLVDGLATSWVNSSNYK, 50, 65\n\tMESCLAQVLQK, 5, 15\n\tNVNLGTTR, 269, 276\n\tNYAELTIMK, 1320, 1328\n\tQMDPTDFVNSSETR, 984, 997\n\tRLMSSSLGSK, 277, 286\n\tRLQVGQELIDYFSDRQK, 20, 36\n\tRRYEPYGMYSDDDANSDASSVCSER, 790, 814\n\tRSPTGSTASR, 571, 580\n\tSGNMIQSANEKNFDDEDSVDGNRPSSASSSSSK, 229, 261\n\tSPTGSTASR, 572, 580\n\tSQEDLNEPIK, 1133, 1142\n\tSVSTTGSLQR, 588, 597\n\tTPSRHPSSR, 1075, 1083\n\tVLSTSTDLEAAVADALLLGDAR, 762, 783\n\tVVLLGMDILSALVTR, 66, 80\n\tVVLLGMDILSALVTRLQDRFK, 66, 86\n\tYIESLAR, 977, 983\n\tDGGAASPATEGRGGSEIEGGR, 1155, 1175\n\tRCFEFLDLLLQEWQTHSLER, 463, 482\n\tSDIDVNAAASAK, 600, 611\n\tSSSPGKLLGSGLAGGSSR, 694, 711\nA0A087WNW9_MOUSE\n\tDFQEYLTQQTHHVNMISGSVSGDK, 14, 37\n\tKPEPLDFVK, 5, 13\nA0A087WNX0_MOUSE\n\tINELQNEVSELQVK, 115, 128\n\tARSPDIEQGK, 5, 14\nA0A087WNX1_MOUSE\n\tEQEPIMDNNISLVPFERPAVIEK, 101, 123\n\tRKQSPAYMK, 285, 293\n\tSSTPQKFVGEK, 133, 143\n\tVFNGEGEQIR, 315, 324\nA0A087WNX3_MOUSE\n\tEAIQATAR, 10, 17\n\tELKETEGWDIVPENK, 47, 61\n\tETEGWDIVPENK, 50, 61\n\tLLQAGFR, 40, 46\n\tLLQAGFRELKETEGWDIVPENK, 40, 61\n\tSPSPFHVVAECR, 26, 37\n\tEAIQATARELLK, 10, 21\n\tFVNRSPSPFHVVAECR, 22, 37\n\tKEAIQATAR, 9, 17\n\tLLQAGFRELK, 40, 49\n\tSRLLQAGFR, 38, 46\nA0A087WNX9_MOUSE\n\tLLESLDQLELR, 28, 38\nA0A087WNY0_MOUSE\n\tGDILAHESELLGLVK, 2, 16\n\tEYLDFAEFEDTLK, 17, 29\nA0A087WNY2_MOUSE\n\tDSYYSIHQIAQMGVGEGK, 87, 104\n\tFAEFEDFPETSEPVWILGR, 13, 31\n\tKYSIFTEKDEILSDVASR, 32, 49\n\tMDAATLTYDTLR, 1, 12\n\tQPDSYFNVLNAFLDR, 71, 85\n\tSIGQWYGPNTVAQVLK, 105, 120\n\tYSIFTEKDEILSDVASR, 33, 49\n\tDEILSDVASR, 40, 49\n\tFAEFEDFPETSEPVWILGRK, 13, 32\n\tRQPDSYFNVLNAFLDRK, 70, 86\n\tSIGQWYGPNTVAQVLKK, 105, 121\n\tRQPDSYFNVLNAFLDR, 70, 85\nA0A087WNY4_MOUSE\n\tEQEPIMDNNISLVPFERPAVIEK, 252, 274\n\tGHDEGSSLEEPLIESSEVADNR, 79, 100\n\tGHDEGSSLEEPLIESSEVADNRK, 79, 101\n\tLEMQSDEECDR, 58, 68\n\tLEMQSDEECDRQPLSR, 58, 73\n\tRKQSPAYMK, 436, 444\n\tSSTPQKFVGEK, 284, 294\n\tVFNGEGEQIR, 466, 475\nA0A087WNY6_MOUSE\n\tAFAFVTFADDK, 21, 31\n\tAFAFVTFADDKVAQSLCGEDLIIK, 21, 44\n\tGISVHISNAEPK, 45, 56\n\tVAQSLCGEDLIIK, 32, 44\n\tFGVHLISNVYGR, 69, 80\n\tHNSNRQLER, 57, 65\n\tPFRAFAFVTFADDK, 18, 31\nA0A087WNY7_MOUSE\n\tCYAAENPDSATWK, 316, 328\n\tSHTLLSPSPKPK, 337, 348\nA0A087WNZ4_MOUSE\n\tAYLPTYLQNWSPARPTK, 11, 27\n"
     ]
    }
   ],
   "source": [
    "for record in data:\n",
    "    print(record['entryName'])\n",
    "    for feature in record['features']:\n",
    "        print(f\"\\t{feature['peptide']}, {feature['begin']}, {feature['end']}\")"
   ]
  },
  {
   "cell_type": "markdown",
   "metadata": {},
   "source": [
    "### Example 2: Mapping protein data to genomic coordinates\n",
    "UniProt entry [O95822](https://www.uniprot.org/uniprot/O95822) is an enzyme which contains two active sites at amino acid positions 329 and 423. This example shows how these functional features can be precisely mapped to the reference genome."
   ]
  },
  {
   "cell_type": "markdown",
   "metadata": {},
   "source": [
    "First we define variables for the UniProt accession and active site position."
   ]
  },
  {
   "cell_type": "code",
   "execution_count": 8,
   "metadata": {},
   "outputs": [],
   "source": [
    "accession = 'O95822'\n",
    "active_site_position = 329"
   ]
  },
  {
   "cell_type": "markdown",
   "metadata": {},
   "source": [
    "Next we construct the URL for the coordinates location endpoint, inserting the variables defined previously:"
   ]
  },
  {
   "cell_type": "code",
   "execution_count": 9,
   "metadata": {},
   "outputs": [],
   "source": [
    "url = f'https://www.ebi.ac.uk/proteins/api/coordinates/location/{accession}:{active_site_position}'"
   ]
  },
  {
   "cell_type": "markdown",
   "metadata": {},
   "source": [
    "The final step is to retrieve the data using requests, similar to the previous example. We can also re-use the headers that we defined earlier."
   ]
  },
  {
   "cell_type": "code",
   "execution_count": 10,
   "metadata": {},
   "outputs": [],
   "source": [
    "r = requests.get(url, headers=headers)\n",
    "data = r.json()"
   ]
  },
  {
   "cell_type": "markdown",
   "metadata": {},
   "source": [
    "Inspecting the data, we can see that the first active site maps to the codon at genomic coordinates 83914992 - 83914994."
   ]
  },
  {
   "cell_type": "code",
   "execution_count": 11,
   "metadata": {},
   "outputs": [
    {
     "output_type": "execute_result",
     "data": {
      "text/plain": [
       "{'locations': [{'accession': 'O95822',\n",
       "   'taxid': 9606,\n",
       "   'chromosome': '16',\n",
       "   'ensemblTranslationId': 'ENSP00000262430',\n",
       "   'proteinStart': 329,\n",
       "   'geneStart': 83914992,\n",
       "   'proteinEnd': 329,\n",
       "   'geneEnd': 83914994}]}"
      ]
     },
     "metadata": {},
     "execution_count": 11
    }
   ],
   "source": [
    "data"
   ]
  },
  {
   "cell_type": "code",
   "execution_count": 12,
   "metadata": {},
   "outputs": [
    {
     "output_type": "execute_result",
     "data": {
      "text/plain": [
       "(83914992, 83914994)"
      ]
     },
     "metadata": {},
     "execution_count": 12
    }
   ],
   "source": [
    "data['locations'][0]['geneStart'], data['locations'][0]['geneEnd']"
   ]
  },
  {
   "cell_type": "markdown",
   "metadata": {},
   "source": [
    "### Example 3: Find all variants associated with the disease Usher syndrome, type 1\n",
    "\n",
    "Type 1 Usher syndrome is in the OMIM database with accession 276900: https://www.omim.org/entry/276900\n",
    "\n",
    "We can pass the OMIM accession as a parameter to the variation search endpoint. The other steps are much the same as in the previous examples (and hopefully familiar by now)."
   ]
  },
  {
   "cell_type": "code",
   "execution_count": 13,
   "metadata": {},
   "outputs": [],
   "source": [
    "url = 'https://www.ebi.ac.uk/proteins/api/variation?'\n",
    "\n",
    "params = {'omim': 276900}\n",
    "\n",
    "r = requests.get(url, params=params, headers=headers)\n",
    "\n",
    "data = r.json()"
   ]
  },
  {
   "cell_type": "markdown",
   "metadata": {},
   "source": [
    "One way to check the number of results from your search is to inspect the headers of the response object. Here we have a relatively small number of records returned. "
   ]
  },
  {
   "cell_type": "code",
   "execution_count": 14,
   "metadata": {},
   "outputs": [
    {
     "output_type": "execute_result",
     "data": {
      "text/plain": [
       "'77'"
      ]
     },
     "metadata": {},
     "execution_count": 14
    }
   ],
   "source": [
    "r.headers['X-Pagination-TotalRecords']"
   ]
  },
  {
   "cell_type": "markdown",
   "metadata": {},
   "source": [
    "Loop through the records and print out the entry and gene name, followed by all the variants and the amino acid change."
   ]
  },
  {
   "cell_type": "code",
   "execution_count": 15,
   "metadata": {},
   "outputs": [
    {
     "output_type": "stream",
     "name": "stdout",
     "text": [
      "A0A087WT71_HUMAN, MYO7A\n\tV -> A, 10, 10\n\tL -> *, 16, 16\n\tL -> S, 16, 16\n\tQ -> *, 18, 18\n\tG -> R, 25, 25\n\tA -> E, 26, 26\n\tC -> *, 31, 31\n\tN -> K, 52, 52\n\tT -> A, 54, 54\n\tP -> R, 61, 61\n\tV -> M, 67, 67\n\tR -> L, 72, 72\n\tL -> P, 73, 73\n\tD -> E, 75, 75\n\tG -> D, 80, 80\n\tN -> K, 106, 106\n\tE -> D, 117, 117\n\tR -> S, 120, 120\n\tI -> T, 127, 127\n\tP -> L, 131, 131\n\tH -> D, 133, 133\n\tH -> N, 133, 133\n\tI -> N, 134, 134\n\tR -> Q, 150, 150\n\tA -> T, 162, 162\n\tG -> R, 163, 163\n\tT -> M, 165, 165\n\tQ -> E, 188, 188\n\tE -> Q, 191, 191\n\tT -> I, 193, 193\n\tR -> C, 206, 206\n\tR -> H, 206, 206\n\tS -> G, 211, 211\n\tR -> C, 212, 212\n\tR -> H, 212, 212\n\tG -> R, 214, 214\n\tA -> T, 226, 226\n\tQ -> *, 234, 234\n\tR -> C, 241, 241\n\tK -> R, 268, 268\n\tR -> W, 292, 292\n\tA -> T, 299, 299\n\tR -> H, 302, 302\n\tL -> Q, 326, 326\n\tR -> C, 336, 336\n\tR -> H, 336, 336\n\tL -> P, 366, 366\n\tR -> C, 373, 373\n\tL -> V, 375, 375\n\tI -> V, 376, 376\n\tR -> C, 378, 378\n\tR -> H, 378, 378\n\tG -> R, 379, 379\n\tT -> M, 381, 381\n\tQ -> *, 390, 390\n\tA -> V, 391, 391\n\tR -> C, 395, 395\n\tA -> D, 397, 397\n\tA -> T, 397, 397\n\tY -> C, 403, 403\n\tV -> A, 411, 411\n\tK -> *, 420, 420\n\tR -> C, 430, 430\n\tE -> Q, 450, 450\n\tE -> V, 450, 450\n\tC -> Y, 453, 453\n\tA -> V, 457, 457\n\tH -> R, 468, 468\n\tI -> T, 499, 499\n\tK -> Q, 515, 515\n\tG -> D, 519, 519\n\tQ -> *, 531, 531\n\tP -> H, 540, 540\n\tH -> P, 574, 574\n\tD -> N, 576, 576\n\tA -> T, 601, 601\n\tR -> H, 606, 606\n\tR -> W, 616, 616\n\tS -> P, 617, 617\n\tR -> H, 623, 623\n\tR -> *, 634, 634\n\tR -> W, 649, 649\n\tL -> P, 651, 651\n\tR -> W, 657, 657\n\tS -> *, 659, 659\n\tR -> *, 666, 666\n\tR -> Q, 666, 666\n\tR -> C, 668, 668\n\tR -> *, 669, 669\n\tR -> Q, 669, 669\n\tR -> C, 675, 675\n\tV -> I, 679, 679\n\tR -> H, 686, 686\n\tG -> R, 703, 703\n\tM -> V, 708, 708\n\tH -> D, 716, 716\n\tR -> W, 740, 740\n\tD -> N, 746, 746\n\tR -> W, 756, 756\n\tL -> M, 765, 765\n\tA -> S, 771, 771\n\tQ -> *, 775, 775\n\tY -> *, 787, 787\n\tR -> H, 791, 791\n\tR -> G, 796, 796\n\tR -> Q, 796, 796\n\tR -> Q, 804, 804\n\tR -> H, 816, 816\n\tQ -> *, 821, 821\n\tA -> T, 826, 826\n\tR -> C, 830, 830\n\tR -> H, 830, 830\n\tR -> C, 836, 836\n\tR -> H, 836, 836\n\tL -> P, 841, 841\n\tV -> M, 843, 843\n\tR -> H, 853, 853\n\tR -> Q, 873, 873\n\tR -> W, 873, 873\n\tD -> E, 908, 908\n\tR -> H, 933, 933\n\tM -> R, 946, 946\n\tG -> S, 955, 955\n\tE -> *, 960, 960\n\tG -> D, 961, 961\n\tQ -> H, 962, 962\n\tE -> D, 968, 968\n\tP -> L, 987, 987\n\tA -> V, 1005, 1005\n\tH -> R, 1029, 1029\n\tI -> T, 1045, 1045\n\tL -> P, 1087, 1087\n\tQ -> *, 1088, 1088\n\tE -> K, 1095, 1095\n\tE -> *, 1103, 1103\n\tK -> *, 1107, 1107\n\tG -> R, 1136, 1136\n\tG -> S, 1142, 1142\n\tR -> Q, 1149, 1149\n\tL -> V, 1154, 1154\n\tI -> V, 1161, 1161\n\tR -> Q, 1167, 1167\nA0A087WTR6_HUMAN, PCDH15\n\tS -> A, 19, 19\n\tV -> L, 156, 156\n\tV -> M, 156, 156\n\tQ -> *, 186, 186\n\tQ -> R, 192, 192\n\tP -> L, 198, 198\n\tY -> C, 222, 222\n\tR -> *, 245, 245\n\tA -> V, 284, 284\n\tL -> F, 347, 347\n\tG -> S, 380, 380\n\tN -> S, 390, 390\n\tQ -> R, 391, 391\n\tG -> A, 402, 402\n\tN -> S, 419, 419\n\tD -> A, 435, 435\n\tD -> N, 447, 447\n\tV -> I, 454, 454\n\tI -> S, 544, 544\n\tV -> G, 550, 550\n\tA -> T, 568, 568\n\tV -> I, 634, 634\n\tN -> S, 637, 637\n\tG -> V, 645, 645\n\tN -> S, 713, 713\n\tR -> C, 764, 764\n\tI -> T, 812, 812\n\tD -> N, 847, 847\n\tR -> W, 855, 855\n\tV -> M, 861, 861\n\tP -> L, 923, 923\n\tR -> Q, 929, 929\n\tA -> V, 936, 936\n\tK -> N, 941, 941\n\tR -> C, 962, 962\n\tR -> H, 962, 962\n\tR -> L, 962, 962\n\tG -> R, 1151, 1151\n\tV -> I, 1178, 1178\n\tV -> M, 1242, 1242\n\tE -> A, 1261, 1261\n\tE -> D, 1265, 1265\n\tR -> S, 1273, 1273\n\tQ -> K, 1342, 1342\n\tE -> G, 1368, 1368\n\tA -> G, 1445, 1445\nA0A087WUA8_HUMAN, PCDH15\n\tS -> A, 19, 19\n\tV -> L, 161, 161\n\tV -> M, 161, 161\n\tQ -> *, 191, 191\n\tQ -> R, 197, 197\n\tP -> L, 203, 203\n\tY -> C, 227, 227\n\tR -> *, 250, 250\n\tA -> V, 289, 289\n\tL -> F, 352, 352\n\tG -> S, 385, 385\n\tN -> S, 395, 395\n\tQ -> R, 396, 396\n\tG -> A, 407, 407\n\tN -> S, 424, 424\n\tD -> A, 440, 440\n\tD -> N, 452, 452\n\tV -> I, 459, 459\n\tI -> S, 549, 549\n\tV -> G, 555, 555\n\tA -> T, 573, 573\n\tV -> I, 639, 639\n\tN -> S, 642, 642\n\tG -> V, 650, 650\n\tN -> S, 718, 718\n\tR -> C, 769, 769\n\tI -> T, 817, 817\n\tD -> N, 852, 852\n\tR -> W, 860, 860\n\tV -> M, 866, 866\n\tP -> L, 928, 928\n\tR -> Q, 934, 934\n\tA -> V, 941, 941\n\tK -> N, 946, 946\n\tR -> C, 967, 967\n\tR -> H, 967, 967\n\tR -> L, 967, 967\n\tG -> R, 1156, 1156\n\tV -> I, 1183, 1183\n\tV -> M, 1247, 1247\n\tE -> A, 1266, 1266\n\tE -> D, 1270, 1270\n\tR -> S, 1278, 1278\n\tQ -> K, 1347, 1347\n\tE -> G, 1373, 1373\n\tA -> G, 1451, 1451\nA0A087WWD9_HUMAN, CDH23\n\tD -> N, 85, 85\nA0A087WX70_HUMAN, PCDH15\n\tE -> A, 14, 14\n\tE -> D, 18, 18\n\tR -> S, 26, 26\n\tQ -> K, 95, 95\n\tE -> G, 121, 121\n"
     ]
    }
   ],
   "source": [
    "for record in data[:5]: # just look at the first 5 records here, for brevity\n",
    "    print(f\"{record['entryName']}, {record['geneName']}\")\n",
    "    for feature in record['features']:\n",
    "        try:\n",
    "            print(f\"\\t{feature['wildType']} -> {feature['alternativeSequence']}, {feature['begin']}, {feature['end']}\")\n",
    "        # Some records may be missing the optional alternativeSequence field, skip these for now.\n",
    "        # In real life you will want to investigate and handle the missing data properly.\n",
    "        except KeyError: \n",
    "            continue"
   ]
  },
  {
   "cell_type": "code",
   "execution_count": null,
   "metadata": {},
   "outputs": [],
   "source": []
  }
 ],
 "metadata": {
  "anaconda-cloud": {},
  "kernelspec": {
   "display_name": "Python 3",
   "language": "python",
   "name": "python3"
  },
  "language_info": {
   "codemirror_mode": {
    "name": "ipython",
    "version": 3
   },
   "file_extension": ".py",
   "mimetype": "text/x-python",
   "name": "python",
   "nbconvert_exporter": "python",
   "pygments_lexer": "ipython3",
   "version": "3.6.10-final"
  }
 },
 "nbformat": 4,
 "nbformat_minor": 2
}